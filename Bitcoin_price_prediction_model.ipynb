{
  "cells": [
    {
      "cell_type": "code",
      "execution_count": 1,
      "metadata": {
        "colab": {
          "base_uri": "https://localhost:8080/",
          "height": 424
        },
        "id": "8QLDQcO5PNN4",
        "outputId": "afa31c14-efba-4964-9338-9fb227e8941d"
      },
      "outputs": [
        {
          "data": {
            "text/html": [
              "<div>\n",
              "<style scoped>\n",
              "    .dataframe tbody tr th:only-of-type {\n",
              "        vertical-align: middle;\n",
              "    }\n",
              "\n",
              "    .dataframe tbody tr th {\n",
              "        vertical-align: top;\n",
              "    }\n",
              "\n",
              "    .dataframe thead th {\n",
              "        text-align: right;\n",
              "    }\n",
              "</style>\n",
              "<table border=\"1\" class=\"dataframe\">\n",
              "  <thead>\n",
              "    <tr style=\"text-align: right;\">\n",
              "      <th></th>\n",
              "      <th>Close</th>\n",
              "      <th>Date</th>\n",
              "      <th>Open</th>\n",
              "      <th>High</th>\n",
              "      <th>Low</th>\n",
              "      <th>Volume</th>\n",
              "      <th>Market Cap</th>\n",
              "    </tr>\n",
              "  </thead>\n",
              "  <tbody>\n",
              "    <tr>\n",
              "      <th>0</th>\n",
              "      <td>2875.34</td>\n",
              "      <td>Jul 31, 2017</td>\n",
              "      <td>2763.24</td>\n",
              "      <td>2889.62</td>\n",
              "      <td>2720.61</td>\n",
              "      <td>860575000</td>\n",
              "      <td>45535800000</td>\n",
              "    </tr>\n",
              "    <tr>\n",
              "      <th>1</th>\n",
              "      <td>2757.18</td>\n",
              "      <td>Jul 30, 2017</td>\n",
              "      <td>2724.39</td>\n",
              "      <td>2758.53</td>\n",
              "      <td>2644.85</td>\n",
              "      <td>705943000</td>\n",
              "      <td>44890700000</td>\n",
              "    </tr>\n",
              "    <tr>\n",
              "      <th>2</th>\n",
              "      <td>2726.45</td>\n",
              "      <td>Jul 29, 2017</td>\n",
              "      <td>2807.02</td>\n",
              "      <td>2808.76</td>\n",
              "      <td>2692.80</td>\n",
              "      <td>803746000</td>\n",
              "      <td>46246700000</td>\n",
              "    </tr>\n",
              "    <tr>\n",
              "      <th>3</th>\n",
              "      <td>2809.01</td>\n",
              "      <td>Jul 28, 2017</td>\n",
              "      <td>2679.73</td>\n",
              "      <td>2897.45</td>\n",
              "      <td>2679.73</td>\n",
              "      <td>1380100000</td>\n",
              "      <td>44144400000</td>\n",
              "    </tr>\n",
              "    <tr>\n",
              "      <th>4</th>\n",
              "      <td>2671.78</td>\n",
              "      <td>Jul 27, 2017</td>\n",
              "      <td>2538.71</td>\n",
              "      <td>2693.32</td>\n",
              "      <td>2529.34</td>\n",
              "      <td>789104000</td>\n",
              "      <td>41816500000</td>\n",
              "    </tr>\n",
              "    <tr>\n",
              "      <th>...</th>\n",
              "      <td>...</td>\n",
              "      <td>...</td>\n",
              "      <td>...</td>\n",
              "      <td>...</td>\n",
              "      <td>...</td>\n",
              "      <td>...</td>\n",
              "      <td>...</td>\n",
              "    </tr>\n",
              "    <tr>\n",
              "      <th>1551</th>\n",
              "      <td>105.21</td>\n",
              "      <td>May 02, 2013</td>\n",
              "      <td>116.38</td>\n",
              "      <td>125.60</td>\n",
              "      <td>92.28</td>\n",
              "      <td>0</td>\n",
              "      <td>1292190000</td>\n",
              "    </tr>\n",
              "    <tr>\n",
              "      <th>1552</th>\n",
              "      <td>116.99</td>\n",
              "      <td>May 01, 2013</td>\n",
              "      <td>139.00</td>\n",
              "      <td>139.89</td>\n",
              "      <td>107.72</td>\n",
              "      <td>0</td>\n",
              "      <td>1542820000</td>\n",
              "    </tr>\n",
              "    <tr>\n",
              "      <th>1553</th>\n",
              "      <td>139.00</td>\n",
              "      <td>Apr 30, 2013</td>\n",
              "      <td>144.00</td>\n",
              "      <td>146.93</td>\n",
              "      <td>134.05</td>\n",
              "      <td>0</td>\n",
              "      <td>1597780000</td>\n",
              "    </tr>\n",
              "    <tr>\n",
              "      <th>1554</th>\n",
              "      <td>144.54</td>\n",
              "      <td>Apr 29, 2013</td>\n",
              "      <td>134.44</td>\n",
              "      <td>147.49</td>\n",
              "      <td>134.00</td>\n",
              "      <td>0</td>\n",
              "      <td>1491160000</td>\n",
              "    </tr>\n",
              "    <tr>\n",
              "      <th>1555</th>\n",
              "      <td>134.21</td>\n",
              "      <td>Apr 28, 2013</td>\n",
              "      <td>135.30</td>\n",
              "      <td>135.98</td>\n",
              "      <td>132.10</td>\n",
              "      <td>0</td>\n",
              "      <td>1500520000</td>\n",
              "    </tr>\n",
              "  </tbody>\n",
              "</table>\n",
              "<p>1556 rows × 7 columns</p>\n",
              "</div>"
            ],
            "text/plain": [
              "        Close          Date     Open     High      Low      Volume   \n",
              "0     2875.34  Jul 31, 2017  2763.24  2889.62  2720.61   860575000  \\\n",
              "1     2757.18  Jul 30, 2017  2724.39  2758.53  2644.85   705943000   \n",
              "2     2726.45  Jul 29, 2017  2807.02  2808.76  2692.80   803746000   \n",
              "3     2809.01  Jul 28, 2017  2679.73  2897.45  2679.73  1380100000   \n",
              "4     2671.78  Jul 27, 2017  2538.71  2693.32  2529.34   789104000   \n",
              "...       ...           ...      ...      ...      ...         ...   \n",
              "1551   105.21  May 02, 2013   116.38   125.60    92.28           0   \n",
              "1552   116.99  May 01, 2013   139.00   139.89   107.72           0   \n",
              "1553   139.00  Apr 30, 2013   144.00   146.93   134.05           0   \n",
              "1554   144.54  Apr 29, 2013   134.44   147.49   134.00           0   \n",
              "1555   134.21  Apr 28, 2013   135.30   135.98   132.10           0   \n",
              "\n",
              "       Market Cap  \n",
              "0     45535800000  \n",
              "1     44890700000  \n",
              "2     46246700000  \n",
              "3     44144400000  \n",
              "4     41816500000  \n",
              "...           ...  \n",
              "1551   1292190000  \n",
              "1552   1542820000  \n",
              "1553   1597780000  \n",
              "1554   1491160000  \n",
              "1555   1500520000  \n",
              "\n",
              "[1556 rows x 7 columns]"
            ]
          },
          "execution_count": 1,
          "metadata": {},
          "output_type": "execute_result"
        }
      ],
      "source": [
        "import pandas as pd\n",
        "import numpy as np\n",
        "df=pd.read_csv('bitcoin_price_bitcoin_price.2013Apr-2017Aug (1).csv')\n",
        "df"
      ]
    },
    {
      "cell_type": "code",
      "execution_count": 2,
      "metadata": {
        "colab": {
          "base_uri": "https://localhost:8080/"
        },
        "id": "sNIgXY6ug7Wr",
        "outputId": "678ffc53-8e95-40de-8407-6c8efe16919c"
      },
      "outputs": [
        {
          "name": "stdout",
          "output_type": "stream",
          "text": [
            "        Close       Date     Open     High      Low      Volume   Market Cap   \n",
            "0     2875.34 2017-07-31  2763.24  2889.62  2720.61   860575000  45535800000  \\\n",
            "1     2757.18 2017-07-30  2724.39  2758.53  2644.85   705943000  44890700000   \n",
            "2     2726.45 2017-07-29  2807.02  2808.76  2692.80   803746000  46246700000   \n",
            "3     2809.01 2017-07-28  2679.73  2897.45  2679.73  1380100000  44144400000   \n",
            "4     2671.78 2017-07-27  2538.71  2693.32  2529.34   789104000  41816500000   \n",
            "...       ...        ...      ...      ...      ...         ...          ...   \n",
            "1551   105.21 2013-05-02   116.38   125.60    92.28           0   1292190000   \n",
            "1552   116.99 2013-05-01   139.00   139.89   107.72           0   1542820000   \n",
            "1553   139.00 2013-04-30   144.00   146.93   134.05           0   1597780000   \n",
            "1554   144.54 2013-04-29   134.44   147.49   134.00           0   1491160000   \n",
            "1555   134.21 2013-04-28   135.30   135.98   132.10           0   1500520000   \n",
            "\n",
            "      year  month  day  \n",
            "0     2017      7   31  \n",
            "1     2017      7   30  \n",
            "2     2017      7   29  \n",
            "3     2017      7   28  \n",
            "4     2017      7   27  \n",
            "...    ...    ...  ...  \n",
            "1551  2013      5    2  \n",
            "1552  2013      5    1  \n",
            "1553  2013      4   30  \n",
            "1554  2013      4   29  \n",
            "1555  2013      4   28  \n",
            "\n",
            "[1556 rows x 10 columns]\n"
          ]
        }
      ],
      "source": [
        "df['Date']=pd.to_datetime(df['Date'])\n",
        "df['year']=df['Date'].dt.year\n",
        "df['month']=df['Date'].dt.month\n",
        "df['day']=df['Date'].dt.day\n",
        "df=df.dropna(axis=1)\n",
        "print(df)"
      ]
    },
    {
      "cell_type": "code",
      "execution_count": 3,
      "metadata": {
        "id": "yzSv-BHyhHWo"
      },
      "outputs": [
        {
          "name": "stdout",
          "output_type": "stream",
          "text": [
            "        Close     Open     High      Low      Volume   Market Cap  year   \n",
            "0     2875.34  2763.24  2889.62  2720.61   860575000  45535800000  2017  \\\n",
            "1     2757.18  2724.39  2758.53  2644.85   705943000  44890700000  2017   \n",
            "2     2726.45  2807.02  2808.76  2692.80   803746000  46246700000  2017   \n",
            "3     2809.01  2679.73  2897.45  2679.73  1380100000  44144400000  2017   \n",
            "4     2671.78  2538.71  2693.32  2529.34   789104000  41816500000  2017   \n",
            "...       ...      ...      ...      ...         ...          ...   ...   \n",
            "1551   105.21   116.38   125.60    92.28           0   1292190000  2013   \n",
            "1552   116.99   139.00   139.89   107.72           0   1542820000  2013   \n",
            "1553   139.00   144.00   146.93   134.05           0   1597780000  2013   \n",
            "1554   144.54   134.44   147.49   134.00           0   1491160000  2013   \n",
            "1555   134.21   135.30   135.98   132.10           0   1500520000  2013   \n",
            "\n",
            "      month  day  \n",
            "0         7   31  \n",
            "1         7   30  \n",
            "2         7   29  \n",
            "3         7   28  \n",
            "4         7   27  \n",
            "...     ...  ...  \n",
            "1551      5    2  \n",
            "1552      5    1  \n",
            "1553      4   30  \n",
            "1554      4   29  \n",
            "1555      4   28  \n",
            "\n",
            "[1556 rows x 9 columns]\n"
          ]
        }
      ],
      "source": [
        "data=df.drop(['Date'], axis=1)\n",
        "print(data)\n",
        "target=df['Close']\n",
        "#print(target)"
      ]
    },
    {
      "cell_type": "markdown",
      "metadata": {
        "id": "SsyTPlKyDDNM"
      },
      "source": [
        "**VISUALIZATION**"
      ]
    },
    {
      "cell_type": "markdown",
      "metadata": {
        "id": "4lOkEfvbDYe1"
      },
      "source": [
        "**SPLITING DATA INTO TRAIN AND TEST**"
      ]
    },
    {
      "cell_type": "code",
      "execution_count": 4,
      "metadata": {},
      "outputs": [],
      "source": [
        "from sklearn.preprocessing import MinMaxScaler\n",
        "# Scale the data\n",
        "scaler = MinMaxScaler()\n",
        "scaled_train_data = scaler.fit_transform(data[['Close']])\n",
        "scaled_test_data = scaler.transform(data[['Close']])"
      ]
    },
    {
      "cell_type": "code",
      "execution_count": 5,
      "metadata": {
        "colab": {
          "base_uri": "https://localhost:8080/"
        },
        "id": "4VAXOol_hPs4",
        "outputId": "65a1e1f1-d7f6-439e-89e1-655a2c791a6a"
      },
      "outputs": [
        {
          "name": "stdout",
          "output_type": "stream",
          "text": [
            "(1167, 9) (389, 9) (1167,) (389,)\n"
          ]
        }
      ],
      "source": [
        "from sklearn.model_selection  import train_test_split\n",
        "Y = target\n",
        "X = data\n",
        "X_train, X_test, Y_train, Y_test = train_test_split(X, Y, test_size=0.25, random_state=0)\n",
        "print(X_train.shape, X_test.shape, Y_train.shape, Y_test.shape)"
      ]
    },
    {
      "cell_type": "code",
      "execution_count": 6,
      "metadata": {
        "id": "pQVIuPRMkqRQ"
      },
      "outputs": [],
      "source": [
        "X_train=X_train.values\n",
        "Y_train=Y_train.values\n",
        "X_test=X_test.values\n",
        "Y_test=Y_test.values"
      ]
    },
    {
      "cell_type": "code",
      "execution_count": 7,
      "metadata": {
        "colab": {
          "base_uri": "https://localhost:8080/",
          "height": 1000
        },
        "id": "mbRTHVmcBzGM",
        "outputId": "61eab8d7-7b5f-4623-f581-6528f3dd5af9"
      },
      "outputs": [
        {
          "data": {
            "image/png": "[encoded data removed]",
            "text/plain": [
              "<Figure size 1000x500 with 1 Axes>"
            ]
          },
          "metadata": {},
          "output_type": "display_data"
        }
      ],
      "source": [
        "import seaborn as sns\n",
        "import matplotlib.pyplot as plt\n",
        "# Plot 1: Line chart of Bitcoin closing prices over time\n",
        "plt.figure(figsize=(10, 5))\n",
        "plt.plot(data['year'], df['Close'])\n",
        "plt.title('Bitcoin Closing Prices over Time')\n",
        "plt.xlabel('Time')\n",
        "plt.ylabel('Closing Price')\n",
        "# plt.xticks(rotation=45)\n",
        "plt.grid(True)\n",
        "plt.show()"
      ]
    },
    {
      "cell_type": "code",
      "execution_count": 34,
      "metadata": {},
      "outputs": [
        {
          "data": {
            "text/plain": [
              "<Figure size 1000x500 with 0 Axes>"
            ]
          },
          "metadata": {},
          "output_type": "display_data"
        },
        {
          "data": {
            "image/png": "[encoded data removed]",
            "text/plain": [
              "<Figure size 640x480 with 1 Axes>"
            ]
          },
          "metadata": {},
          "output_type": "display_data"
        }
      ],
      "source": [
        "# Box plot of Bitcoin trading volume by month\n",
        "plt.figure(figsize=(10, 5))\n",
        "df.boxplot(column='Volume', by='month')\n",
        "plt.title('Volume by Month')\n",
        "plt.xlabel('Month')\n",
        "plt.ylabel('Volume')\n",
        "plt.grid(True)\n",
        "plt.show()"
      ]
    },
    {
      "cell_type": "code",
      "execution_count": 8,
      "metadata": {
        "colab": {
          "base_uri": "https://localhost:8080/"
        },
        "id": "ygwU-y9gUWXA",
        "outputId": "d490c677-4700-4ee9-af8d-cbf9e53c5396"
      },
      "outputs": [
        {
          "data": {
            "text/plain": [
              "Close         float64\n",
              "Open          float64\n",
              "High          float64\n",
              "Low           float64\n",
              "Volume          int64\n",
              "Market Cap      int64\n",
              "year            int32\n",
              "month           int32\n",
              "day             int32\n",
              "dtype: object"
            ]
          },
          "execution_count": 8,
          "metadata": {},
          "output_type": "execute_result"
        }
      ],
      "source": [
        "data.dtypes"
      ]
    },
    {
      "cell_type": "markdown",
      "metadata": {
        "id": "nkwmbsoP-ihW"
      },
      "source": [
        "**applying different models**"
      ]
    },
    {
      "cell_type": "code",
      "execution_count": 18,
      "metadata": {},
      "outputs": [
        {
          "name": "stdout",
          "output_type": "stream",
          "text": [
            "49/49 [==============================] - 1s 2ms/step\n"
          ]
        }
      ],
      "source": [
        "# LSTM model\n",
        "from keras.models import Sequential\n",
        "from keras.layers import Embedding, LSTM, Dense\n",
        "def create_lstm_model():\n",
        "    model = Sequential()\n",
        "    model.add(LSTM(128, input_shape=(1, 1)))\n",
        "    model.add(Dense(1))\n",
        "    model.compile(loss='mean_squared_error', optimizer='adam')\n",
        "    return model\n",
        "\n",
        "lstm_model = create_lstm_model()\n",
        "lstm_history = lstm_model.fit(np.expand_dims(scaled_train_data, axis=-1),\n",
        "                              np.expand_dims(scaled_train_data, axis=-1),\n",
        "                              epochs=10, batch_size=1, verbose=0)\n",
        "lstm_predictions = lstm_model.predict(np.expand_dims(scaled_test_data, axis=-1))"
      ]
    },
    {
      "cell_type": "code",
      "execution_count": 19,
      "metadata": {},
      "outputs": [
        {
          "name": "stdout",
          "output_type": "stream",
          "text": [
            "785.7064565461943\n"
          ]
        }
      ],
      "source": [
        "from sklearn.metrics import mean_squared_error\n",
        "lstm_rmse = np.sqrt(mean_squared_error(data['Close'], lstm_predictions))\n",
        "print(lstm_rmse)"
      ]
    },
    {
      "cell_type": "markdown",
      "metadata": {
        "id": "iXbtybn1dloP"
      },
      "source": [
        "**1.DECISION TREE REGRESSOR WITH CROSS VALIDATION**"
      ]
    },
    {
      "cell_type": "code",
      "execution_count": 11,
      "metadata": {
        "colab": {
          "base_uri": "https://localhost:8080/"
        },
        "id": "A8ps5uskWFgp",
        "outputId": "19c7c080-2412-4569-b0e2-e8c6703f71d5"
      },
      "outputs": [
        {
          "name": "stdout",
          "output_type": "stream",
          "text": [
            "[0.99983051 0.99887777 0.99932963 0.99958265 0.99976523 0.9987891\n",
            " 0.9995091  0.99985829 0.99672765 0.99766776] \n",
            "\n",
            "[0.99843428 0.99937418 0.99851929 0.9967237  0.99835939 0.99728688\n",
            " 0.99750906 0.99891347 0.99987587 0.99941078]\n"
          ]
        }
      ],
      "source": [
        "from sklearn.model_selection import cross_val_score\n",
        "from sklearn.tree import DecisionTreeRegressor\n",
        "dtr = DecisionTreeRegressor(random_state=42)\n",
        "\n",
        "print(cross_val_score(dtr, X_train, Y_train, cv=10),'\\n')\n",
        "print(cross_val_score(dtr, X_test, Y_test, cv=10))"
      ]
    },
    {
      "cell_type": "markdown",
      "metadata": {
        "id": "TxlHOx8jdxuO"
      },
      "source": [
        "**2.RANDOM FOREST REGRESSOR**"
      ]
    },
    {
      "cell_type": "code",
      "execution_count": 20,
      "metadata": {
        "colab": {
          "base_uri": "https://localhost:8080/"
        },
        "id": "KRAvpE01YdMT",
        "outputId": "a2456c98-edfd-4202-9f49-bc2dc302e2a4"
      },
      "outputs": [
        {
          "name": "stdout",
          "output_type": "stream",
          "text": [
            "0.9989212857772984\n"
          ]
        }
      ],
      "source": [
        "from sklearn.ensemble import RandomForestRegressor\n",
        "regr = RandomForestRegressor(max_depth=5, random_state=0,oob_score=True)\n",
        "regr.fit(X_train, Y_train) #training the model\n",
        "regr.predict(X_test)\n",
        "print(regr.oob_score_)  # out of bag score"
      ]
    },
    {
      "cell_type": "markdown",
      "metadata": {
        "id": "WaywJa32enQQ"
      },
      "source": [
        "**3.BAGGING REGRESSOR**"
      ]
    },
    {
      "cell_type": "code",
      "execution_count": 23,
      "metadata": {
        "colab": {
          "base_uri": "https://localhost:8080/"
        },
        "id": "kEZAuumxenBZ",
        "outputId": "5f187e3d-8286-4745-edee-4b598163cbc0"
      },
      "outputs": [
        {
          "name": "stdout",
          "output_type": "stream",
          "text": [
            "0.9713093222183007\n"
          ]
        },
        {
          "name": "stderr",
          "output_type": "stream",
          "text": [
            "c:\\Users\\arya0\\AppData\\Local\\Programs\\Python\\Python311\\Lib\\site-packages\\sklearn\\ensemble\\_bagging.py:1253: UserWarning: Some inputs do not have OOB scores. This probably means too few estimators were used to compute any reliable oob estimates.\n",
            "  warn(\n"
          ]
        }
      ],
      "source": [
        "from sklearn.ensemble import BaggingRegressor\n",
        "br = BaggingRegressor(n_estimators=10, random_state=0,oob_score=True).fit(X_train,Y_train)\n",
        "br.predict(X_test)\n",
        "print(br.oob_score_)"
      ]
    },
    {
      "cell_type": "code",
      "execution_count": 22,
      "metadata": {},
      "outputs": [],
      "source": [
        "import pickle\n",
        "pickle.dump(regr,open('bitcoin_price_randomForest_model.pkl', 'wb'))"
      ]
    }
  ],
  "metadata": {
    "colab": {
      "provenance": []
    },
    "kernelspec": {
      "display_name": "Python 3",
      "name": "python3"
    },
    "language_info": {
      "codemirror_mode": {
        "name": "ipython",
        "version": 3
      },
      "file_extension": ".py",
      "mimetype": "text/x-python",
      "name": "python",
      "nbconvert_exporter": "python",
      "pygments_lexer": "ipython3",
      "version": "3.11.3"
    }
  },
  "nbformat": 4,
  "nbformat_minor": 0
}
